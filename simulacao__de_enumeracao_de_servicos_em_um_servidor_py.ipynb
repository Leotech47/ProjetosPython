{
  "nbformat": 4,
  "nbformat_minor": 0,
  "metadata": {
    "colab": {
      "provenance": [],
      "authorship_tag": "ABX9TyN3zHes1WRD/cCzNIckpps4",
      "include_colab_link": true
    },
    "kernelspec": {
      "name": "python3",
      "display_name": "Python 3"
    },
    "language_info": {
      "name": "python"
    }
  },
  "cells": [
    {
      "cell_type": "markdown",
      "metadata": {
        "id": "view-in-github",
        "colab_type": "text"
      },
      "source": [
        "<a href=\"https://colab.research.google.com/github/Leotech47/ProjetosPython/blob/main/simulacao__de_enumeracao_de_servicos_em_um_servidor_py.ipynb\" target=\"_parent\"><img src=\"https://colab.research.google.com/assets/colab-badge.svg\" alt=\"Open In Colab\"/></a>"
      ]
    },
    {
      "cell_type": "code",
      "execution_count": null,
      "metadata": {
        "id": "6x8Re8001O7W"
      },
      "outputs": [],
      "source": [
        "# Dicionário que mapeia números de portas aos serviços correspondentes\n",
        "port_services = {\n",
        "    21: \"FTP\",      # Serviço de transferência de arquivos\n",
        "    22: \"SSH\",      # Secure Shell (acesso remoto seguro)\n",
        "    23: \"Telnet\",   # Protocolo de acesso remoto inseguro\n",
        "    25: \"SMTP\",     # Serviço de envio de emails\n",
        "    53: \"DNS\",      # Serviço de tradução de nomes de domínio\n",
        "    80: \"HTTP\",     # Protocolo de transferência de hipertexto (web)\n",
        "    110: \"POP3\",    # Serviço de recebimento de emails\n",
        "    143: \"IMAP\",    # Serviço de recebimento de emails com suporte a pastas\n",
        "    443: \"HTTPS\",   # Protocolo seguro de transferência de hipertexto\n",
        "    3306: \"MySQL\",  # Banco de dados MySQL\n",
        "    3389: \"RDP\",    # Remote Desktop Protocol (Acesso remoto ao Windows)\n",
        "    5432: \"PostgreSQL\", # Banco de dados PostgreSQL\n",
        "    6379: \"Redis\"   # Banco de dados Redis\n",
        "}\n",
        "\n",
        "# Função que realiza a enumeração de serviços\n",
        "def enumerate_services(ports):\n",
        "    # Inicializamos uma lista para armazenar os serviços correspondentes\n",
        "    services = []\n",
        "\n",
        "    # Iteramos sobre cada porta fornecida na lista de portas\n",
        "    for port in ports:\n",
        "        # Verificamos se a porta existe no dicionário de serviços\n",
        "        if port in port_services:\n",
        "            # Se existir, adicionamos o serviço correspondente à lista de serviços\n",
        "            services.append(port_services[port])\n",
        "        else:\n",
        "            # Se a porta não estiver mapeada, adicionamos \"Desconhecido\"\n",
        "            services.append(\"Desconhecido\")\n",
        "\n",
        "    return services\n",
        "\n",
        "# Função principal que lida com a entrada do usuário e exibe o resultado:\n",
        "def main():\n",
        "    ports_input = input(\"Digite os números das portas, separados por vírgula: \")\n",
        "\n",
        "    # Convertemos a string de entrada para uma lista de inteiros (números de portas)\n",
        "    # strip() remove espaços em branco e split(\",\") separa por vírgula\n",
        "    ports = [int(port.strip()) for port in ports_input.split(\",\")]\n",
        "\n",
        "    # Chamamos a função de enumeração para obter a lista de serviços correspondentes\n",
        "    services = enumerate_services(ports)\n",
        "\n",
        "    print(services)\n",
        "\n",
        "# Ponto de entrada do script\n",
        "if __name__ == \"__main__\":\n",
        "    main()\n"
      ]
    }
  ]
}
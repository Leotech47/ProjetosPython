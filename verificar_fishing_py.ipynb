{
  "nbformat": 4,
  "nbformat_minor": 0,
  "metadata": {
    "colab": {
      "provenance": [],
      "authorship_tag": "ABX9TyMVLlnPudPNafZH1ivQdv1H",
      "include_colab_link": true
    },
    "kernelspec": {
      "name": "python3",
      "display_name": "Python 3"
    },
    "language_info": {
      "name": "python"
    }
  },
  "cells": [
    {
      "cell_type": "markdown",
      "metadata": {
        "id": "view-in-github",
        "colab_type": "text"
      },
      "source": [
        "<a href=\"https://colab.research.google.com/github/Leotech47/ProjetosPython/blob/main/verificar_fishing_py.ipynb\" target=\"_parent\"><img src=\"https://colab.research.google.com/assets/colab-badge.svg\" alt=\"Open In Colab\"/></a>"
      ]
    },
    {
      "cell_type": "code",
      "execution_count": null,
      "metadata": {
        "id": "ouPaoB0HBKe4"
      },
      "outputs": [],
      "source": [
        "def verificar_phishing(mensagem):\n",
        "    # Lista de palavras que indicam possíveis e-mails de phishing\n",
        "    palavras_suspeitas = [\"ganhe\", \"prêmio\", \"urgente\", \"desconto\", \"click\", \"promoção\"]\n",
        "\n",
        "    # TODO: Verifique se alguma palavra suspeita está presente no corpo do e-mail:\n",
        "    mensagem_lower = mensagem.lower() #Transforma tudo em minúsculo para a busca não ser case sensitive\n",
        "\n",
        "    for palavra in palavras_suspeitas:\n",
        "        if palavra in mensagem_lower:\n",
        "            return \"Phishing\"\n",
        "\n",
        "    return \"Seguro\"\n",
        "\n",
        "email_usuario = input()\n",
        "\n",
        "email_usuario = email_usuario.strip()\n",
        "\n",
        "resultado = verificar_phishing(email_usuario)\n",
        "\n",
        "print(f\"Classificação: {resultado}\")\n"
      ]
    }
  ]
}